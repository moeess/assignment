{
 "cells": [
  {
   "cell_type": "markdown",
   "id": "d675524b-a85a-4842-90ff-e1ea78379d25",
   "metadata": {},
   "source": [
    "<h1>(My Jupyter Notebook on IBM Watson Studio<h1>"
   ]
  },
  {
   "cell_type": "markdown",
   "id": "1af50809-89b2-4ff3-b785-6c4842e54b20",
   "metadata": {
    "tags": []
   },
   "source": [
    "**<h4>MOIN SHARIFF<h4>**"
   ]
  },
  {
   "cell_type": "markdown",
   "id": "6e970251-d257-44c2-bdba-fe1b58c35e38",
   "metadata": {},
   "source": [
    "<h4>Data analyst<h4>"
   ]
  },
  {
   "cell_type": "markdown",
   "id": "ec3aa1a2-bf2e-4d21-819a-c62a900d7a6a",
   "metadata": {},
   "source": [
    "_I am interested in data science because, I want to combine the power of AI/ML with the business requirements, to create powerful solutions and provide deep insights into issues an organization needs to solve or discover underlying patterns to discover new potential insights_"
   ]
  },
  {
   "cell_type": "markdown",
   "id": "5b7ddb0a-96e6-4aca-9e25-36cafc903790",
   "metadata": {},
   "source": [
    "<h3>The Following Code will generate a random integer between 80 and 100<h3>"
   ]
  },
  {
   "cell_type": "code",
   "execution_count": 2,
   "id": "b386cc0b-f347-4339-8659-6ff29401bcfb",
   "metadata": {},
   "outputs": [
    {
     "name": "stdout",
     "output_type": "stream",
     "text": [
      "94\n"
     ]
    }
   ],
   "source": [
    "import random\n",
    "\n",
    "Random_int = random.randint(80,100)\n",
    "\n",
    "print(Random_int)"
   ]
  },
  {
   "cell_type": "code",
   "execution_count": null,
   "id": "4c96deea-c629-4a2a-a69b-d1648e80c465",
   "metadata": {},
   "outputs": [],
   "source": []
  },
  {
   "cell_type": "code",
   "execution_count": null,
   "id": "e0416e97-1f6f-4006-93aa-4ad937900d5e",
   "metadata": {},
   "outputs": [],
   "source": []
  }
 ],
 "metadata": {
  "kernelspec": {
   "display_name": "Python",
   "language": "python",
   "name": "conda-env-python-py"
  },
  "language_info": {
   "codemirror_mode": {
    "name": "ipython",
    "version": 3
   },
   "file_extension": ".py",
   "mimetype": "text/x-python",
   "name": "python",
   "nbconvert_exporter": "python",
   "pygments_lexer": "ipython3",
   "version": "3.7.12"
  }
 },
 "nbformat": 4,
 "nbformat_minor": 5
}
